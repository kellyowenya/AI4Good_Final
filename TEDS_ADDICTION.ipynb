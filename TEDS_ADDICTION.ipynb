{
 "cells": [
  {
   "cell_type": "code",
   "execution_count": 27,
   "id": "8e4a2302",
   "metadata": {},
   "outputs": [],
   "source": [
    "import pandas as pd\n",
    "import numpy as np\n",
    "import seaborn as sns #visualisation\n",
    "import matplotlib.pyplot as plt #visualisation\n",
    "%matplotlib inline \n",
    "sns.set(color_codes=True)"
   ]
  },
  {
   "cell_type": "code",
   "execution_count": null,
   "id": "48d29473",
   "metadata": {},
   "outputs": [],
   "source": [
    "data = pd.read_csv('tedsa_puf_2018.csv')"
   ]
  },
  {
   "cell_type": "code",
   "execution_count": null,
   "id": "a8b2cfd8",
   "metadata": {},
   "outputs": [],
   "source": [
    "data.head()"
   ]
  },
  {
   "cell_type": "code",
   "execution_count": null,
   "id": "8bedad4a",
   "metadata": {},
   "outputs": [],
   "source": [
    "data1 = pd.read_csv('tedsd_puf_2019.csv')"
   ]
  },
  {
   "cell_type": "code",
   "execution_count": null,
   "id": "553940ad",
   "metadata": {},
   "outputs": [],
   "source": [
    "data.shape"
   ]
  },
  {
   "cell_type": "code",
   "execution_count": null,
   "id": "fab969ca",
   "metadata": {},
   "outputs": [],
   "source": [
    "data.columns"
   ]
  },
  {
   "cell_type": "code",
   "execution_count": null,
   "id": "a84bcc1e",
   "metadata": {},
   "outputs": [],
   "source": [
    "newData = data.loc[data['SUB1'].isin([5,6, 7])]\n",
    "newData.head()"
   ]
  },
  {
   "cell_type": "code",
   "execution_count": null,
   "id": "17f358cd",
   "metadata": {},
   "outputs": [],
   "source": [
    "newData.shape"
   ]
  },
  {
   "cell_type": "code",
   "execution_count": null,
   "id": "cb603264",
   "metadata": {},
   "outputs": [],
   "source": [
    "data1.columns"
   ]
  },
  {
   "cell_type": "code",
   "execution_count": null,
   "id": "22e57773",
   "metadata": {},
   "outputs": [],
   "source": [
    "data1.drop(data1.columns.difference(['CASEID','REASON']), 1, inplace=True)"
   ]
  },
  {
   "cell_type": "code",
   "execution_count": null,
   "id": "1aae69f0",
   "metadata": {},
   "outputs": [],
   "source": [
    "data1.head()"
   ]
  },
  {
   "cell_type": "code",
   "execution_count": null,
   "id": "8d2ffbdf",
   "metadata": {},
   "outputs": [],
   "source": [
    "newData['CASEID'] = newData['CASEID'].astype(\"string\")\n",
    "data1['CASEID'] = data1['CASEID'].astype(\"string\")\n",
    "\n",
    "newData['CASEID'] = newData['CASEID'].str[4:]\n",
    "data1['CASEID'] = data1['CASEID'].str[4:]"
   ]
  },
  {
   "cell_type": "code",
   "execution_count": null,
   "id": "2337e0f2",
   "metadata": {},
   "outputs": [],
   "source": []
  },
  {
   "cell_type": "code",
   "execution_count": null,
   "id": "5965be23",
   "metadata": {},
   "outputs": [],
   "source": [
    "finalData = pd.merge(newData, data1, on=\"CASEID\")"
   ]
  },
  {
   "cell_type": "code",
   "execution_count": null,
   "id": "f0933f6c",
   "metadata": {},
   "outputs": [],
   "source": [
    "finalData.head()"
   ]
  },
  {
   "cell_type": "code",
   "execution_count": null,
   "id": "348b6bc8",
   "metadata": {},
   "outputs": [],
   "source": []
  }
 ],
 "metadata": {
  "kernelspec": {
   "display_name": "Python 3 (ipykernel)",
   "language": "python",
   "name": "python3"
  },
  "language_info": {
   "codemirror_mode": {
    "name": "ipython",
    "version": 3
   },
   "file_extension": ".py",
   "mimetype": "text/x-python",
   "name": "python",
   "nbconvert_exporter": "python",
   "pygments_lexer": "ipython3",
   "version": "3.9.12"
  }
 },
 "nbformat": 4,
 "nbformat_minor": 5
}
